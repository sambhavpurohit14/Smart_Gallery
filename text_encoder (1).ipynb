{
 "cells": [
  {
   "cell_type": "code",
   "execution_count": null,
   "id": "65fbcde0-acd9-45ec-8b92-b02889d25a61",
   "metadata": {},
   "outputs": [],
   "source": [
    "class TextEncoder(nn.Module):\n",
    "    def __init__(self, out_dim):\n",
    "        super().__init__()\n",
    "        self.model = BertModel.from_pretrained('bert-base-uncased')\n",
    "        self.projection = nn.Sequential(\n",
    "            nn.Linear(768, out_dim),\n",
    "            nn.LayerNorm(out_dim)\n",
    "        )\n",
    "        \n",
    "    def forward(self,input_ids,attention_mask):\n",
    "        outputs = self.model(input_ids=input_ids, attention_mask=attention_mask)\n",
    "        hidden_states = outputs.last_hidden_state  # Shape: (batch_size, seq_length, 768)\n",
    "        \n",
    "        # Create a mask to ignore padding tokens (0s in attention_mask)\n",
    "        mask = attention_mask.unsqueeze(-1).expand_as(hidden_states)  # Shape: (batch_size, seq_length, 768)\n",
    "        \n",
    "        summed_hidden_states = hidden_states * mask  # Mask out padding tokens\n",
    "        token_counts = mask.sum(dim=1, keepdim=True)  # Count the non-padding tokens\n",
    "        avg_pooling = summed_hidden_states.sum(dim=1) / token_counts  # Average across the sequence\n",
    "\n",
    "        # Apply the projection layer (linear + layernorm)\n",
    "        return self.projection(avg_pooling)  # Shape: (batch_size, out_dim)"
   ]
  }
 ],
 "metadata": {
  "kernelspec": {
   "display_name": "Python 3 (ipykernel)",
   "language": "python",
   "name": "python3"
  },
  "language_info": {
   "codemirror_mode": {
    "name": "ipython",
    "version": 3
   },
   "file_extension": ".py",
   "mimetype": "text/x-python",
   "name": "python",
   "nbconvert_exporter": "python",
   "pygments_lexer": "ipython3",
   "version": "3.11.7"
  }
 },
 "nbformat": 4,
 "nbformat_minor": 5
}
