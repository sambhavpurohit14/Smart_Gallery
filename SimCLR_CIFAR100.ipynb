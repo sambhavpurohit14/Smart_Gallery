{
  "nbformat": 4,
  "nbformat_minor": 0,
  "metadata": {
    "colab": {
      "provenance": [],
      "gpuType": "T4"
    },
    "kernelspec": {
      "name": "python3",
      "display_name": "Python 3"
    },
    "language_info": {
      "name": "python"
    },
    "accelerator": "GPU"
  },
  "cells": [
    {
      "cell_type": "code",
      "execution_count": 23,
      "metadata": {
        "id": "bDKjqDdq2X_G"
      },
      "outputs": [],
      "source": [
        "import torch\n",
        "import torch.nn as nn\n",
        "import torch.optim as optim\n",
        "from torch.utils.data import DataLoader\n",
        "from torchvision import datasets, transforms, models\n",
        "from torch.nn.functional import normalize"
      ]
    },
    {
      "cell_type": "code",
      "source": [
        "class SimCLRTransform:\n",
        "    def __init__(self, size=32):\n",
        "        self.transform = transforms.Compose([\n",
        "            transforms.RandomResizedCrop(size=size),\n",
        "            transforms.RandomHorizontalFlip(),\n",
        "            transforms.RandomApply([transforms.ColorJitter(0.4, 0.4, 0.4, 0.1)], p=0.8),\n",
        "            transforms.RandomGrayscale(p=0.2),\n",
        "            transforms.ToTensor(),\n",
        "            transforms.Normalize(mean=(0.5, 0.5, 0.5), std=(0.5, 0.5, 0.5)),\n",
        "        ])\n",
        "\n",
        "    def __call__(self, x):\n",
        "        return self.transform(x), self.transform(x)"
      ],
      "metadata": {
        "id": "9z-4qDyn3Gp9"
      },
      "execution_count": 24,
      "outputs": []
    },
    {
      "cell_type": "code",
      "source": [
        "train_dataset = datasets.CIFAR100(root='./data', train=True, download=True, transform=SimCLRTransform())\n",
        "train_loader = DataLoader(train_dataset, batch_size=256, shuffle=True, num_workers=4)"
      ],
      "metadata": {
        "colab": {
          "base_uri": "https://localhost:8080/"
        },
        "id": "eiM5lwvQ47oo",
        "outputId": "18b2da5f-210d-40d4-b3f8-40bb0ac9f188"
      },
      "execution_count": 25,
      "outputs": [
        {
          "output_type": "stream",
          "name": "stderr",
          "text": [
            "/usr/local/lib/python3.11/dist-packages/torch/utils/data/dataloader.py:617: UserWarning: This DataLoader will create 4 worker processes in total. Our suggested max number of worker in current system is 2, which is smaller than what this DataLoader is going to create. Please be aware that excessive worker creation might get DataLoader running slow or even freeze, lower the worker number to avoid potential slowness/freeze if necessary.\n",
            "  warnings.warn(\n"
          ]
        }
      ]
    },
    {
      "cell_type": "code",
      "source": [
        "class ProjectionHead(nn.Module):\n",
        "    def __init__(self, input_dim, hidden_dim, output_dim):\n",
        "        super(ProjectionHead, self).__init__()\n",
        "        self.fc1 = nn.Linear(input_dim, hidden_dim)\n",
        "        self.fc2 = nn.Linear(hidden_dim, output_dim)\n",
        "        self.relu = nn.ReLU()\n",
        "        self.bn = nn.BatchNorm1d(hidden_dim)\n",
        "\n",
        "    def forward(self, x):\n",
        "        x = self.fc1(x)\n",
        "        x = self.bn(x)\n",
        "        x = self.relu(x)\n",
        "        x = self.fc2(x)\n",
        "        return x"
      ],
      "metadata": {
        "id": "_dyxPQ045AUY"
      },
      "execution_count": 26,
      "outputs": []
    },
    {
      "cell_type": "code",
      "source": [
        "class SimCLR(nn.Module):\n",
        "    def __init__(self, base_model, projection_dim=128):\n",
        "        super(SimCLR, self).__init__()\n",
        "        self.base_model = nn.Sequential(*list(base_model.children())[:-1])\n",
        "        self.projection_head = ProjectionHead(512, 256, projection_dim)\n",
        "\n",
        "    def forward(self, x):\n",
        "        h = self.base_model(x).squeeze()\n",
        "        z = self.projection_head(h)\n",
        "        return normalize(z, dim=1)"
      ],
      "metadata": {
        "id": "i-14kTw05DgL"
      },
      "execution_count": 27,
      "outputs": []
    },
    {
      "cell_type": "code",
      "source": [
        "class NTXentLoss(nn.Module):\n",
        "    def __init__(self, temperature=0.5):\n",
        "        super(NTXentLoss, self).__init__()\n",
        "        self.temperature = temperature\n",
        "\n",
        "    def forward(self, z_i, z_j):\n",
        "        z = torch.cat([z_i, z_j], dim=0)\n",
        "        similarity_matrix = torch.mm(z, z.T)\n",
        "        batch_size = z_i.size(0)\n",
        "\n",
        "        labels = torch.cat([torch.arange(batch_size) for _ in range(2)], dim=0)\n",
        "        labels = (labels.unsqueeze(0) == labels.unsqueeze(1)).float().to(z.device)\n",
        "\n",
        "        mask = torch.eye(labels.shape[0], dtype=torch.bool).to(z.device)\n",
        "        labels = labels[~mask].view(labels.shape[0], -1)\n",
        "        similarity_matrix = similarity_matrix[~mask].view(similarity_matrix.shape[0], -1)\n",
        "\n",
        "        positives = similarity_matrix[labels.bool()].view(labels.shape[0], -1)\n",
        "        negatives = similarity_matrix[~labels.bool()].view(labels.shape[0], -1)\n",
        "\n",
        "        logits = torch.cat([positives, negatives], dim=1)\n",
        "        labels = torch.zeros(logits.shape[0], dtype=torch.long).to(z.device)\n",
        "\n",
        "        logits = logits / self.temperature\n",
        "        loss = nn.CrossEntropyLoss()(logits, labels)\n",
        "        return loss"
      ],
      "metadata": {
        "id": "xE-cKIhJ5GwT"
      },
      "execution_count": 28,
      "outputs": []
    },
    {
      "cell_type": "code",
      "source": [
        "device = torch.device('cuda' if torch.cuda.is_available() else 'cpu')\n",
        "model = SimCLR(models.resnet18(pretrained=False), projection_dim=128).to(device)\n",
        "criterion = NTXentLoss(temperature=0.5)\n",
        "optimizer = optim.Adam(model.parameters(), lr=3e-4, weight_decay=1e-4)"
      ],
      "metadata": {
        "colab": {
          "base_uri": "https://localhost:8080/"
        },
        "id": "ssInbxDd5J-5",
        "outputId": "dcbcfe50-4122-49e2-e37b-49e90e54ecd2"
      },
      "execution_count": 29,
      "outputs": [
        {
          "output_type": "stream",
          "name": "stderr",
          "text": [
            "/usr/local/lib/python3.11/dist-packages/torchvision/models/_utils.py:208: UserWarning: The parameter 'pretrained' is deprecated since 0.13 and may be removed in the future, please use 'weights' instead.\n",
            "  warnings.warn(\n",
            "/usr/local/lib/python3.11/dist-packages/torchvision/models/_utils.py:223: UserWarning: Arguments other than a weight enum or `None` for 'weights' are deprecated since 0.13 and may be removed in the future. The current behavior is equivalent to passing `weights=None`.\n",
            "  warnings.warn(msg)\n"
          ]
        }
      ]
    },
    {
      "cell_type": "code",
      "source": [
        "from tqdm import tqdm\n",
        "\n",
        "num_epochs = 20\n",
        "epoch_loss = []\n",
        "for epoch in range(num_epochs):\n",
        "    model.train()\n",
        "    total_loss = 0\n",
        "    print(f\"Epoch [{epoch + 1}/{num_epochs}]\")\n",
        "\n",
        "    with tqdm(total=len(train_loader), desc=\"Training\", unit=\"batch\") as progress_bar:\n",
        "        for (x_i, x_j), _ in train_loader:\n",
        "            x_i, x_j = x_i.to(device), x_j.to(device)\n",
        "\n",
        "            z_i = model(x_i)\n",
        "            z_j = model(x_j)\n",
        "\n",
        "            loss = criterion(z_i, z_j)\n",
        "            optimizer.zero_grad()\n",
        "            loss.backward()\n",
        "            optimizer.step()\n",
        "\n",
        "            total_loss += loss.item()\n",
        "\n",
        "            progress_bar.set_postfix(loss=f\"{loss.item():.4f}\")\n",
        "            progress_bar.update(1)\n",
        "\n",
        "    avg_loss = total_loss / len(train_loader)\n",
        "    epoch_loss.append(avg_loss)\n",
        "    print(f\"Epoch [{epoch + 1}/{num_epochs}] Completed, Average Loss: {avg_loss:.4f}\")\n",
        "\n",
        "print(\"Training complete.\")"
      ],
      "metadata": {
        "colab": {
          "base_uri": "https://localhost:8080/"
        },
        "id": "3gFEhhNw5Moe",
        "outputId": "db32a2d0-2c43-4866-eec8-ffc9a2ac9906"
      },
      "execution_count": 30,
      "outputs": [
        {
          "output_type": "stream",
          "name": "stderr",
          "text": [
            "Training: 100%|██████████| 196/196 [01:19<00:00,  2.47batch/s, loss=4.2540]\n",
            "Training: 100%|██████████| 196/196 [01:21<00:00,  2.41batch/s, loss=4.1177]\n",
            "Training: 100%|██████████| 196/196 [01:20<00:00,  2.44batch/s, loss=4.0128]\n",
            "Training: 100%|██████████| 196/196 [01:20<00:00,  2.42batch/s, loss=4.0056]\n",
            "Training: 100%|██████████| 196/196 [01:19<00:00,  2.45batch/s, loss=4.0229]\n",
            "Training: 100%|██████████| 196/196 [01:18<00:00,  2.48batch/s, loss=3.8981]\n",
            "Training: 100%|██████████| 196/196 [01:19<00:00,  2.47batch/s, loss=3.9315]\n",
            "Training: 100%|██████████| 196/196 [01:20<00:00,  2.44batch/s, loss=3.9188]\n",
            "Training: 100%|██████████| 196/196 [01:20<00:00,  2.44batch/s, loss=3.9025]\n",
            "Training: 100%|██████████| 196/196 [01:20<00:00,  2.44batch/s, loss=3.8678]\n",
            "Training: 100%|██████████| 196/196 [01:19<00:00,  2.45batch/s, loss=3.8294]\n",
            "Training: 100%|██████████| 196/196 [01:19<00:00,  2.45batch/s, loss=3.9527]\n",
            "Training: 100%|██████████| 196/196 [01:19<00:00,  2.46batch/s, loss=3.9288]\n",
            "Training: 100%|██████████| 196/196 [01:19<00:00,  2.47batch/s, loss=3.9901]\n",
            "Training: 100%|██████████| 196/196 [01:19<00:00,  2.46batch/s, loss=3.9738]\n",
            "Training: 100%|██████████| 196/196 [01:19<00:00,  2.46batch/s, loss=3.8542]\n",
            "Training: 100%|██████████| 196/196 [01:19<00:00,  2.46batch/s, loss=3.8733]\n",
            "Training: 100%|██████████| 196/196 [01:19<00:00,  2.46batch/s, loss=3.8469]\n",
            "Training: 100%|██████████| 196/196 [01:18<00:00,  2.49batch/s, loss=3.9655]\n",
            "Training: 100%|██████████| 196/196 [01:19<00:00,  2.47batch/s, loss=3.9545]\n"
          ]
        }
      ]
    },
    {
      "cell_type": "code",
      "source": [
        "import matplotlib.pyplot as plt\n",
        "\n",
        "plt.plot(range(num_epochs),  epoch_loss, color='red',  label='Training Loss', marker='o')"
      ],
      "metadata": {
        "colab": {
          "base_uri": "https://localhost:8080/",
          "height": 447
        },
        "id": "3sZ1vnh4_H_r",
        "outputId": "d33e9551-c7ec-458d-ef6e-76440495301c"
      },
      "execution_count": 31,
      "outputs": [
        {
          "output_type": "execute_result",
          "data": {
            "text/plain": [
              "[<matplotlib.lines.Line2D at 0x7933508a8a90>]"
            ]
          },
          "metadata": {},
          "execution_count": 31
        },
        {
          "output_type": "display_data",
          "data": {
            "text/plain": [
              "<Figure size 640x480 with 1 Axes>"
            ],
            "image/png": "[encoded data removed]"
          },
          "metadata": {}
        }
      ]
    },
    {
      "cell_type": "code",
      "source": [
        "from torchinfo import summary\n",
        "\n",
        "summary(model, input_size=(256, 3, 224, 224))"
      ],
      "metadata": {
        "colab": {
          "base_uri": "https://localhost:8080/"
        },
        "id": "gugul6pGRfSa",
        "outputId": "a216cfd3-8d36-487a-ffcd-9734a4cb3719"
      },
      "execution_count": 32,
      "outputs": [
        {
          "output_type": "execute_result",
          "data": {
            "text/plain": [
              "===============================================================================================\n",
              "Layer (type:depth-idx)                        Output Shape              Param #\n",
              "===============================================================================================\n",
              "SimCLR                                        [256, 128]                --\n",
              "├─Sequential: 1-1                             [256, 512, 1, 1]          --\n",
              "│    └─Conv2d: 2-1                            [256, 64, 112, 112]       9,408\n",
              "│    └─BatchNorm2d: 2-2                       [256, 64, 112, 112]       128\n",
              "│    └─ReLU: 2-3                              [256, 64, 112, 112]       --\n",
              "│    └─MaxPool2d: 2-4                         [256, 64, 56, 56]         --\n",
              "│    └─Sequential: 2-5                        [256, 64, 56, 56]         --\n",
              "│    │    └─BasicBlock: 3-1                   [256, 64, 56, 56]         73,984\n",
              "│    │    └─BasicBlock: 3-2                   [256, 64, 56, 56]         73,984\n",
              "│    └─Sequential: 2-6                        [256, 128, 28, 28]        --\n",
              "│    │    └─BasicBlock: 3-3                   [256, 128, 28, 28]        230,144\n",
              "│    │    └─BasicBlock: 3-4                   [256, 128, 28, 28]        295,424\n",
              "│    └─Sequential: 2-7                        [256, 256, 14, 14]        --\n",
              "│    │    └─BasicBlock: 3-5                   [256, 256, 14, 14]        919,040\n",
              "│    │    └─BasicBlock: 3-6                   [256, 256, 14, 14]        1,180,672\n",
              "│    └─Sequential: 2-8                        [256, 512, 7, 7]          --\n",
              "│    │    └─BasicBlock: 3-7                   [256, 512, 7, 7]          3,673,088\n",
              "│    │    └─BasicBlock: 3-8                   [256, 512, 7, 7]          4,720,640\n",
              "│    └─AdaptiveAvgPool2d: 2-9                 [256, 512, 1, 1]          --\n",
              "├─ProjectionHead: 1-2                         [256, 128]                --\n",
              "│    └─Linear: 2-10                           [256, 256]                131,328\n",
              "│    └─BatchNorm1d: 2-11                      [256, 256]                512\n",
              "│    └─ReLU: 2-12                             [256, 256]                --\n",
              "│    └─Linear: 2-13                           [256, 128]                32,896\n",
              "===============================================================================================\n",
              "Total params: 11,341,248\n",
              "Trainable params: 11,341,248\n",
              "Non-trainable params: 0\n",
              "Total mult-adds (Units.GIGABYTES): 464.32\n",
              "===============================================================================================\n",
              "Input size (MB): 154.14\n",
              "Forward/backward pass size (MB): 10174.60\n",
              "Params size (MB): 45.36\n",
              "Estimated Total Size (MB): 10374.10\n",
              "==============================================================================================="
            ]
          },
          "metadata": {},
          "execution_count": 32
        }
      ]
    }
  ]
}