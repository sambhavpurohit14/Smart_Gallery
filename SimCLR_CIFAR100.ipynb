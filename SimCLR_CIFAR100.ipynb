{
  "nbformat": 4,
  "nbformat_minor": 0,
  "metadata": {
    "colab": {
      "provenance": [],
      "gpuType": "T4"
    },
    "kernelspec": {
      "name": "python3",
      "display_name": "Python 3"
    },
    "language_info": {
      "name": "python"
    },
    "accelerator": "GPU"
  },
  "cells": [
    {
      "cell_type": "code",
      "execution_count": 10,
      "metadata": {
        "id": "bDKjqDdq2X_G"
      },
      "outputs": [],
      "source": [
        "import torch\n",
        "import torch.nn as nn\n",
        "import torch.optim as optim\n",
        "from torch.utils.data import DataLoader\n",
        "from torchvision import datasets, transforms, models\n",
        "from torch.nn.functional import normalize"
      ]
    },
    {
      "cell_type": "code",
      "source": [
        "class SimCLRTransform:\n",
        "    def __init__(self, size=32):\n",
        "        self.transform = transforms.Compose([\n",
        "            transforms.RandomResizedCrop(size=size),\n",
        "            transforms.RandomHorizontalFlip(),\n",
        "            transforms.RandomApply([transforms.ColorJitter(0.4, 0.4, 0.4, 0.1)], p=0.8),\n",
        "            transforms.RandomGrayscale(p=0.2),\n",
        "            transforms.ToTensor(),\n",
        "            transforms.Normalize(mean=(0.5, 0.5, 0.5), std=(0.5, 0.5, 0.5)),\n",
        "        ])\n",
        "\n",
        "    def __call__(self, x):\n",
        "        return self.transform(x), self.transform(x)"
      ],
      "metadata": {
        "id": "9z-4qDyn3Gp9"
      },
      "execution_count": 11,
      "outputs": []
    },
    {
      "cell_type": "code",
      "source": [
        "train_dataset = datasets.CIFAR100(root='./data', train=True, download=True, transform=SimCLRTransform())\n",
        "train_loader = DataLoader(train_dataset, batch_size=256, shuffle=True, num_workers=4)"
      ],
      "metadata": {
        "colab": {
          "base_uri": "https://localhost:8080/"
        },
        "id": "eiM5lwvQ47oo",
        "outputId": "5ab8265c-5c8e-49cf-eaad-3f0ab332b149"
      },
      "execution_count": 12,
      "outputs": [
        {
          "output_type": "stream",
          "name": "stdout",
          "text": [
            "Files already downloaded and verified\n"
          ]
        }
      ]
    },
    {
      "cell_type": "code",
      "source": [
        "class ProjectionHead(nn.Module):\n",
        "    def __init__(self, input_dim, hidden_dim, output_dim):\n",
        "        super(ProjectionHead, self).__init__()\n",
        "        self.fc1 = nn.Linear(input_dim, hidden_dim)\n",
        "        self.fc2 = nn.Linear(hidden_dim, output_dim)\n",
        "        self.relu = nn.ReLU()\n",
        "        self.bn = nn.BatchNorm1d(hidden_dim)\n",
        "\n",
        "    def forward(self, x):\n",
        "        x = self.fc1(x)\n",
        "        x = self.bn(x)\n",
        "        x = self.relu(x)\n",
        "        x = self.fc2(x)\n",
        "        return x"
      ],
      "metadata": {
        "id": "_dyxPQ045AUY"
      },
      "execution_count": 13,
      "outputs": []
    },
    {
      "cell_type": "code",
      "source": [
        "class SimCLR(nn.Module):\n",
        "    def __init__(self, base_model, projection_dim=128):\n",
        "        super(SimCLR, self).__init__()\n",
        "        self.base_model = nn.Sequential(*list(base_model.children())[:-1])\n",
        "        self.projection_head = ProjectionHead(512, 256, projection_dim)\n",
        "\n",
        "    def forward(self, x):\n",
        "        h = self.base_model(x).squeeze()\n",
        "        z = self.projection_head(h)\n",
        "        return normalize(z, dim=1)"
      ],
      "metadata": {
        "id": "i-14kTw05DgL"
      },
      "execution_count": 14,
      "outputs": []
    },
    {
      "cell_type": "code",
      "source": [
        "class NTXentLoss(nn.Module):\n",
        "    def __init__(self, temperature=0.5):\n",
        "        super(NTXentLoss, self).__init__()\n",
        "        self.temperature = temperature\n",
        "\n",
        "    def forward(self, z_i, z_j):\n",
        "        z = torch.cat([z_i, z_j], dim=0)\n",
        "        similarity_matrix = torch.mm(z, z.T)\n",
        "        batch_size = z_i.size(0)\n",
        "\n",
        "        labels = torch.cat([torch.arange(batch_size) for _ in range(2)], dim=0)\n",
        "        labels = (labels.unsqueeze(0) == labels.unsqueeze(1)).float().to(z.device)\n",
        "\n",
        "        mask = torch.eye(labels.shape[0], dtype=torch.bool).to(z.device)\n",
        "        labels = labels[~mask].view(labels.shape[0], -1)\n",
        "        similarity_matrix = similarity_matrix[~mask].view(similarity_matrix.shape[0], -1)\n",
        "\n",
        "        positives = similarity_matrix[labels.bool()].view(labels.shape[0], -1)\n",
        "        negatives = similarity_matrix[~labels.bool()].view(labels.shape[0], -1)\n",
        "\n",
        "        logits = torch.cat([positives, negatives], dim=1)\n",
        "        labels = torch.zeros(logits.shape[0], dtype=torch.long).to(z.device)\n",
        "\n",
        "        logits = logits / self.temperature\n",
        "        loss = nn.CrossEntropyLoss()(logits, labels)\n",
        "        return loss"
      ],
      "metadata": {
        "id": "xE-cKIhJ5GwT"
      },
      "execution_count": 15,
      "outputs": []
    },
    {
      "cell_type": "code",
      "source": [
        "device = torch.device('cuda' if torch.cuda.is_available() else 'cpu')\n",
        "model = SimCLR(models.resnet18(pretrained=False), projection_dim=128).to(device)\n",
        "criterion = NTXentLoss(temperature=0.5)\n",
        "optimizer = optim.Adam(model.parameters(), lr=3e-4, weight_decay=1e-4)"
      ],
      "metadata": {
        "id": "ssInbxDd5J-5"
      },
      "execution_count": 16,
      "outputs": []
    },
    {
      "cell_type": "code",
      "source": [
        "from tqdm import tqdm\n",
        "\n",
        "num_epochs = 10\n",
        "epoch_loss = []\n",
        "for epoch in range(num_epochs):\n",
        "    model.train()\n",
        "    total_loss = 0\n",
        "    print(f\"Epoch [{epoch + 1}/{num_epochs}]\")\n",
        "\n",
        "    with tqdm(total=len(train_loader), desc=\"Training\", unit=\"batch\") as progress_bar:\n",
        "        for (x_i, x_j), _ in train_loader:\n",
        "            x_i, x_j = x_i.to(device), x_j.to(device)\n",
        "\n",
        "            z_i = model(x_i)\n",
        "            z_j = model(x_j)\n",
        "\n",
        "            loss = criterion(z_i, z_j)\n",
        "            optimizer.zero_grad()\n",
        "            loss.backward()\n",
        "            optimizer.step()\n",
        "\n",
        "            total_loss += loss.item()\n",
        "\n",
        "            progress_bar.set_postfix(loss=f\"{loss.item():.4f}\")\n",
        "            progress_bar.update(1)\n",
        "\n",
        "    avg_loss = total_loss / len(train_loader)\n",
        "    epoch_loss.append(avg_loss)\n",
        "    print(f\"Epoch [{epoch + 1}/{num_epochs}] Completed, Average Loss: {avg_loss:.4f}\")\n",
        "\n",
        "print(\"Training complete.\")"
      ],
      "metadata": {
        "colab": {
          "base_uri": "https://localhost:8080/"
        },
        "id": "3gFEhhNw5Moe",
        "outputId": "1c94bc5a-164c-42f4-b745-222cf3d8e716"
      },
      "execution_count": 17,
      "outputs": [
        {
          "output_type": "stream",
          "name": "stdout",
          "text": [
            "Epoch [1/10]\n"
          ]
        },
        {
          "output_type": "stream",
          "name": "stderr",
          "text": [
            "Training: 100%|██████████| 196/196 [01:24<00:00,  2.33batch/s, loss=4.2693]\n"
          ]
        },
        {
          "output_type": "stream",
          "name": "stdout",
          "text": [
            "Epoch [1/10] Completed, Average Loss: 5.4986\n",
            "Epoch [2/10]\n"
          ]
        },
        {
          "output_type": "stream",
          "name": "stderr",
          "text": [
            "Training: 100%|██████████| 196/196 [01:24<00:00,  2.33batch/s, loss=4.1104]\n"
          ]
        },
        {
          "output_type": "stream",
          "name": "stdout",
          "text": [
            "Epoch [2/10] Completed, Average Loss: 5.3221\n",
            "Epoch [3/10]\n"
          ]
        },
        {
          "output_type": "stream",
          "name": "stderr",
          "text": [
            "Training: 100%|██████████| 196/196 [01:21<00:00,  2.40batch/s, loss=4.1313]\n"
          ]
        },
        {
          "output_type": "stream",
          "name": "stdout",
          "text": [
            "Epoch [3/10] Completed, Average Loss: 5.2656\n",
            "Epoch [4/10]\n"
          ]
        },
        {
          "output_type": "stream",
          "name": "stderr",
          "text": [
            "Training: 100%|██████████| 196/196 [01:22<00:00,  2.37batch/s, loss=4.0407]\n"
          ]
        },
        {
          "output_type": "stream",
          "name": "stdout",
          "text": [
            "Epoch [4/10] Completed, Average Loss: 5.2346\n",
            "Epoch [5/10]\n"
          ]
        },
        {
          "output_type": "stream",
          "name": "stderr",
          "text": [
            "Training: 100%|██████████| 196/196 [01:22<00:00,  2.38batch/s, loss=3.9371]\n"
          ]
        },
        {
          "output_type": "stream",
          "name": "stdout",
          "text": [
            "Epoch [5/10] Completed, Average Loss: 5.2043\n",
            "Epoch [6/10]\n"
          ]
        },
        {
          "output_type": "stream",
          "name": "stderr",
          "text": [
            "Training: 100%|██████████| 196/196 [01:22<00:00,  2.38batch/s, loss=3.9640]\n"
          ]
        },
        {
          "output_type": "stream",
          "name": "stdout",
          "text": [
            "Epoch [6/10] Completed, Average Loss: 5.1867\n",
            "Epoch [7/10]\n"
          ]
        },
        {
          "output_type": "stream",
          "name": "stderr",
          "text": [
            "Training: 100%|██████████| 196/196 [01:22<00:00,  2.37batch/s, loss=4.0672]\n"
          ]
        },
        {
          "output_type": "stream",
          "name": "stdout",
          "text": [
            "Epoch [7/10] Completed, Average Loss: 5.1667\n",
            "Epoch [8/10]\n"
          ]
        },
        {
          "output_type": "stream",
          "name": "stderr",
          "text": [
            "Training: 100%|██████████| 196/196 [01:21<00:00,  2.40batch/s, loss=4.0006]\n"
          ]
        },
        {
          "output_type": "stream",
          "name": "stdout",
          "text": [
            "Epoch [8/10] Completed, Average Loss: 5.1511\n",
            "Epoch [9/10]\n"
          ]
        },
        {
          "output_type": "stream",
          "name": "stderr",
          "text": [
            "Training: 100%|██████████| 196/196 [01:21<00:00,  2.41batch/s, loss=3.9432]\n"
          ]
        },
        {
          "output_type": "stream",
          "name": "stdout",
          "text": [
            "Epoch [9/10] Completed, Average Loss: 5.1327\n",
            "Epoch [10/10]\n"
          ]
        },
        {
          "output_type": "stream",
          "name": "stderr",
          "text": [
            "Training: 100%|██████████| 196/196 [01:22<00:00,  2.38batch/s, loss=3.8587]"
          ]
        },
        {
          "output_type": "stream",
          "name": "stdout",
          "text": [
            "Epoch [10/10] Completed, Average Loss: 5.1238\n",
            "Training complete.\n"
          ]
        },
        {
          "output_type": "stream",
          "name": "stderr",
          "text": [
            "\n"
          ]
        }
      ]
    },
    {
      "cell_type": "code",
      "source": [
        "import matplotlib.pyplot as plt\n",
        "\n",
        "plt.plot(range(num_epochs),  epoch_loss, color='red',  label='Training Loss', marker='o')"
      ],
      "metadata": {
        "colab": {
          "base_uri": "https://localhost:8080/",
          "height": 447
        },
        "id": "3sZ1vnh4_H_r",
        "outputId": "e66a2f9e-4b97-493c-8528-c42f1e4efd41"
      },
      "execution_count": 18,
      "outputs": [
        {
          "output_type": "execute_result",
          "data": {
            "text/plain": [
              "[<matplotlib.lines.Line2D at 0x7933505a8a90>]"
            ]
          },
          "metadata": {},
          "execution_count": 18
        },
        {
          "output_type": "display_data",
          "data": {
            "text/plain": [
              "<Figure size 640x480 with 1 Axes>"
            ],
            "image/png": "[encoded data removed]"
          },
          "metadata": {}
        }
      ]
    },
    {
      "cell_type": "code",
      "source": [
        "from torchinfo import summary\n",
        "\n",
        "summary(model, input_size=(256, 3, 224, 224))"
      ],
      "metadata": {
        "colab": {
          "base_uri": "https://localhost:8080/"
        },
        "id": "gugul6pGRfSa",
        "outputId": "cfda676a-af38-4433-e4a5-92e2dd04a582"
      },
      "execution_count": 21,
      "outputs": [
        {
          "output_type": "execute_result",
          "data": {
            "text/plain": [
              "===============================================================================================\n",
              "Layer (type:depth-idx)                        Output Shape              Param #\n",
              "===============================================================================================\n",
              "SimCLR                                        [256, 128]                --\n",
              "├─Sequential: 1-1                             [256, 512, 1, 1]          --\n",
              "│    └─Conv2d: 2-1                            [256, 64, 112, 112]       9,408\n",
              "│    └─BatchNorm2d: 2-2                       [256, 64, 112, 112]       128\n",
              "│    └─ReLU: 2-3                              [256, 64, 112, 112]       --\n",
              "│    └─MaxPool2d: 2-4                         [256, 64, 56, 56]         --\n",
              "│    └─Sequential: 2-5                        [256, 64, 56, 56]         --\n",
              "│    │    └─BasicBlock: 3-1                   [256, 64, 56, 56]         73,984\n",
              "│    │    └─BasicBlock: 3-2                   [256, 64, 56, 56]         73,984\n",
              "│    └─Sequential: 2-6                        [256, 128, 28, 28]        --\n",
              "│    │    └─BasicBlock: 3-3                   [256, 128, 28, 28]        230,144\n",
              "│    │    └─BasicBlock: 3-4                   [256, 128, 28, 28]        295,424\n",
              "│    └─Sequential: 2-7                        [256, 256, 14, 14]        --\n",
              "│    │    └─BasicBlock: 3-5                   [256, 256, 14, 14]        919,040\n",
              "│    │    └─BasicBlock: 3-6                   [256, 256, 14, 14]        1,180,672\n",
              "│    └─Sequential: 2-8                        [256, 512, 7, 7]          --\n",
              "│    │    └─BasicBlock: 3-7                   [256, 512, 7, 7]          3,673,088\n",
              "│    │    └─BasicBlock: 3-8                   [256, 512, 7, 7]          4,720,640\n",
              "│    └─AdaptiveAvgPool2d: 2-9                 [256, 512, 1, 1]          --\n",
              "├─ProjectionHead: 1-2                         [256, 128]                --\n",
              "│    └─Linear: 2-10                           [256, 256]                131,328\n",
              "│    └─BatchNorm1d: 2-11                      [256, 256]                512\n",
              "│    └─ReLU: 2-12                             [256, 256]                --\n",
              "│    └─Linear: 2-13                           [256, 128]                32,896\n",
              "===============================================================================================\n",
              "Total params: 11,341,248\n",
              "Trainable params: 11,341,248\n",
              "Non-trainable params: 0\n",
              "Total mult-adds (Units.GIGABYTES): 464.32\n",
              "===============================================================================================\n",
              "Input size (MB): 154.14\n",
              "Forward/backward pass size (MB): 10174.60\n",
              "Params size (MB): 45.36\n",
              "Estimated Total Size (MB): 10374.10\n",
              "==============================================================================================="
            ]
          },
          "metadata": {},
          "execution_count": 21
        }
      ]
    }
  ]
}